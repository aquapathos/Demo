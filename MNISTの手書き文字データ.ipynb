{
  "nbformat": 4,
  "nbformat_minor": 0,
  "metadata": {
    "colab": {
      "name": "MNISTの手書き文字データ.ipynb",
      "version": "0.3.2",
      "provenance": [],
      "collapsed_sections": [],
      "include_colab_link": true
    },
    "kernelspec": {
      "name": "python3",
      "display_name": "Python 3"
    },
    "accelerator": "GPU"
  },
  "cells": [
    {
      "cell_type": "markdown",
      "metadata": {
        "id": "view-in-github",
        "colab_type": "text"
      },
      "source": [
        "<a href=\"https://colab.research.google.com/github/aquapathos/Demo/blob/master/MNIST%E3%81%AE%E6%89%8B%E6%9B%B8%E3%81%8D%E6%96%87%E5%AD%97%E3%83%87%E3%83%BC%E3%82%BF.ipynb\" target=\"_parent\"><img src=\"https://colab.research.google.com/assets/colab-badge.svg\" alt=\"Open In Colab\"/></a>"
      ]
    },
    {
      "cell_type": "markdown",
      "metadata": {
        "id": "pgE6tZTiFyoe",
        "colab_type": "text"
      },
      "source": [
        "# MNISTの手書き文字\n",
        "\n",
        "MNIST の手書き文字（数字）認識用のデータはAI のプラットフォームの解説やチュートリアルのサンプルとしてよく使われており，たいていのプラットフォームに簡単にMNISTデータを読み込む機能が備わっている．\n",
        "\n",
        "ここでは，MNISTの手書き文字データを\n",
        "\n",
        "*   TensorFlow\n",
        "*   Keras\n",
        "*   Chainer    \n",
        "\n",
        "読み込む方法と，読み込んだデータのデータ構造についてまとめておく．\n",
        "\n",
        "## ライブラリのインポート\n",
        "\n"
      ]
    },
    {
      "cell_type": "code",
      "metadata": {
        "id": "GiN9p7x3jjw-",
        "colab_type": "code",
        "colab": {}
      },
      "source": [
        "import numpy as np\n",
        "import matplotlib.pyplot as plt\n",
        "%matplotlib inline\n",
        "import seaborn as sns\n",
        "import tensorflow as tf\n",
        "import keras\n",
        "import chainer"
      ],
      "execution_count": 0,
      "outputs": []
    },
    {
      "cell_type": "markdown",
      "metadata": {
        "id": "hJ4KMlHjbfhh",
        "colab_type": "text"
      },
      "source": [
        "## MNIST  手書き文字データセットの読み込み\n",
        "\n",
        "- 詳しくは、https://weblabo.oscasierra.net/python/ai-mnist-data-detail.html\n",
        "\n",
        "## Tensorflow\n",
        "\n",
        "```\n",
        "from tensorflow.examples.tutorials.mnist import input_data\n",
        "mnist = input_data.read_data_sets(\"/tmp/mnist_data/\", one_hot=True)\n",
        "```\n",
        "\n",
        "## Keras\n",
        "\n",
        "```\n",
        " from keras.datasets import mnist\n",
        " (x_train, y_train), (x_test, y_test) = mnist.load_data()\n",
        "```\n",
        "\n",
        "## Chainer\n",
        "```\n",
        "from chainer import datasets\n",
        "train, test = datasets.get_mnist(ndim=3)\n",
        "```\n",
        "\n",
        "1.   ndim = 1 の場合、(784,)\n",
        "2.   ndim = 2 の場合、(28,28)\n",
        "3.   ndim = 3 の場合、(1,28,28)\n",
        "\n",
        "という構造で読み込まれる。"
      ]
    },
    {
      "cell_type": "code",
      "metadata": {
        "id": "0JF0qe_3Fqdc",
        "colab_type": "code",
        "outputId": "c63523eb-150c-4a7b-ecdf-862b51b06ac4",
        "colab": {
          "base_uri": "https://localhost:8080/",
          "height": 85
        }
      },
      "source": [
        "# tensorflow の場合のデータの読み込み方法\n",
        "from tensorflow.examples.tutorials.mnist import input_data\n",
        "mnistTF = input_data.read_data_sets(\"/tmp/data/\", one_hot=True)\n",
        "# keras の場合のデータの読み込み方法\n",
        "from keras.datasets import mnist\n",
        "(Xtrain, ytrain), (Xtest, ytest) = mnist.load_data()\n",
        "# chainer の場合のデータの読み込み方法\n",
        "from chainer import datasets\n",
        "trainC, testC = datasets.get_mnist(ndim=3)"
      ],
      "execution_count": 0,
      "outputs": [
        {
          "output_type": "stream",
          "text": [
            "Extracting /tmp/data/train-images-idx3-ubyte.gz\n",
            "Extracting /tmp/data/train-labels-idx1-ubyte.gz\n",
            "Extracting /tmp/data/t10k-images-idx3-ubyte.gz\n",
            "Extracting /tmp/data/t10k-labels-idx1-ubyte.gz\n"
          ],
          "name": "stdout"
        }
      ]
    },
    {
      "cell_type": "markdown",
      "metadata": {
        "id": "5xQoet5HFwY3",
        "colab_type": "text"
      },
      "source": [
        "# データ構造の確認（TensorFlow）\n"
      ]
    },
    {
      "cell_type": "code",
      "metadata": {
        "id": "iFzSW9p7Gaa7",
        "colab_type": "code",
        "outputId": "f6b97218-c4f8-4311-8af6-a78e3136f172",
        "colab": {
          "base_uri": "https://localhost:8080/",
          "height": 51
        }
      },
      "source": [
        "print(mnistTF.train.images.shape,mnistTF.validation.images.shape,mnistTF.test.images.shape)\n",
        "print(mnistTF.train.labels.shape,mnistTF.validation.labels.shape,mnistTF.test.labels.shape)"
      ],
      "execution_count": 0,
      "outputs": [
        {
          "output_type": "stream",
          "text": [
            "(55000, 784) (5000, 784) (10000, 784)\n",
            "(55000, 10) (5000, 10) (10000, 10)\n"
          ],
          "name": "stdout"
        }
      ]
    },
    {
      "cell_type": "markdown",
      "metadata": {
        "id": "ps1g3eR3HUvn",
        "colab_type": "text"
      },
      "source": [
        "訓練用データが 55000，検証用が5000，テスト用が10000 用意されている。\n",
        "\n",
        "MNISTの手書き文字の画像は 28x28で、バイナリではなく濃淡画像である。images の構造が 784 となっているのは１次元化されているため。\n",
        "\n",
        "label つまり正解がデータ１つではなく10次元ベクトルであるのは、1 of 10 表現されているため。"
      ]
    },
    {
      "cell_type": "code",
      "metadata": {
        "id": "CqVmIO4ZGgOX",
        "colab_type": "code",
        "outputId": "3b8976b8-82f7-4c4e-eb28-d6491ad7e988",
        "colab": {
          "base_uri": "https://localhost:8080/",
          "height": 34
        }
      },
      "source": [
        "mnistTF.train.labels[0] # 0番目のデータのラベル"
      ],
      "execution_count": 0,
      "outputs": [
        {
          "output_type": "execute_result",
          "data": {
            "text/plain": [
              "array([0., 0., 0., 0., 0., 0., 0., 1., 0., 0.])"
            ]
          },
          "metadata": {
            "tags": []
          },
          "execution_count": 20
        }
      ]
    },
    {
      "cell_type": "markdown",
      "metadata": {
        "id": "HMuSdyDYIAim",
        "colab_type": "text"
      },
      "source": [
        "上のラベルは７を表している．このような表現を **1 of K表現** とよぶ．\n",
        "\n",
        "２進数を使って 1010とすれば容量節約になるわけだが，普通そうはせず，1 of K にしてそのうち１つのみが１となるという制約がかかるように仕組む．\n",
        "\n",
        "プラットフォームによっては，読み込み時には普通に\"７’’というラベルになっていることもある．その場合は，1 of K に変換することになる。\n",
        "\n",
        "逆に 1 of 10 表現で表現された label から十進の数字を取り出したければ、\n",
        "\n",
        "```\n",
        "num = np.argmax(label)\n",
        "```\n",
        "\n",
        "とすれば良い。argmax はリストの中の最大値のインデックスを返す関数。（import numpy as np としてあることを仮定）"
      ]
    },
    {
      "cell_type": "markdown",
      "metadata": {
        "id": "ls6NWWujKv3l",
        "colab_type": "text"
      },
      "source": [
        "#### 画像データの確認\n"
      ]
    },
    {
      "cell_type": "code",
      "metadata": {
        "id": "8LTfMWWJLuV4",
        "colab_type": "code",
        "colab": {}
      },
      "source": [
        "def plotchr(image,label,i):\n",
        "    sns.set_context(\"talk\")   # \"talk\" はタイトルの文字サイズ。　paper <  notebook <  talk <  poster の順にフォントサイズが大きくなる\n",
        "    plt.subplot(1,10,i+1)\n",
        "    plt.xticks([])\n",
        "    plt.yticks([])\n",
        "    plt.title(\"%d\" % label) # np.argmax は最大値のインデックスを求める関数．１はひとつしかないので，その位置がわかる．\n",
        "    plt.imshow(image,cmap=plt.cm.gray_r)"
      ],
      "execution_count": 0,
      "outputs": []
    },
    {
      "cell_type": "markdown",
      "metadata": {
        "id": "LTP91RCQMR97",
        "colab_type": "text"
      },
      "source": [
        "テストデータの画像を前から６つ表示してみる．"
      ]
    },
    {
      "cell_type": "code",
      "metadata": {
        "id": "ZcU1RIFzMJIC",
        "colab_type": "code",
        "outputId": "100f1b26-b347-406d-b01a-a5090fdf4ad2",
        "colab": {
          "base_uri": "https://localhost:8080/",
          "height": 83
        }
      },
      "source": [
        "for i in range(6):\n",
        "    image, label = mnistTF.train.images[i], mnistTF.train.labels[i]\n",
        "    image = image.reshape((28,28))\n",
        "    plotchr(image,np.argmax(label),i)"
      ],
      "execution_count": 0,
      "outputs": [
        {
          "output_type": "display_data",
          "data": {
            "image/png": "[encoded data removed]",
            "text/plain": [
              "<Figure size 432x288 with 6 Axes>"
            ]
          },
          "metadata": {
            "tags": [],
            "image/png": {
              "width": 222,
              "height": 66
            }
          }
        }
      ]
    },
    {
      "cell_type": "markdown",
      "metadata": {
        "id": "EsSuU4_pweLY",
        "colab_type": "text"
      },
      "source": [
        "学習の際には問題を次々と取り出さないといけない。そのために、next_batch(個数)という関数も用意されている。"
      ]
    },
    {
      "cell_type": "code",
      "metadata": {
        "id": "fvLt7Q6IHlM2",
        "colab_type": "code",
        "outputId": "4931ebea-15c8-4117-bafd-f8a124b0888e",
        "colab": {
          "base_uri": "https://localhost:8080/",
          "height": 34
        }
      },
      "source": [
        "images, labels = mnistTF.train.next_batch(6)\n",
        "images.shape, labels.shape"
      ],
      "execution_count": 0,
      "outputs": [
        {
          "output_type": "execute_result",
          "data": {
            "text/plain": [
              "((6, 784), (6, 10))"
            ]
          },
          "metadata": {
            "tags": []
          },
          "execution_count": 122
        }
      ]
    },
    {
      "cell_type": "code",
      "metadata": {
        "id": "_VRO5yfFLE-U",
        "colab_type": "code",
        "outputId": "748d681d-0b1f-4749-85db-36fa6712ac77",
        "colab": {
          "base_uri": "https://localhost:8080/",
          "height": 83
        }
      },
      "source": [
        "for i in range(6):\n",
        "    image = images[i].reshape((28,28))\n",
        "    plotchr(image,np.argmax(labels[i]),i)"
      ],
      "execution_count": 0,
      "outputs": [
        {
          "output_type": "display_data",
          "data": {
            "image/png": "[encoded data removed]",
            "text/plain": [
              "<Figure size 432x288 with 6 Axes>"
            ]
          },
          "metadata": {
            "tags": [],
            "image/png": {
              "width": 222,
              "height": 66
            }
          }
        }
      ]
    },
    {
      "cell_type": "markdown",
      "metadata": {
        "id": "4Q9Qf7zzyYXy",
        "colab_type": "text"
      },
      "source": [
        "# データ構造の確認（Keras）"
      ]
    },
    {
      "cell_type": "code",
      "metadata": {
        "id": "ao2V9K9myrkx",
        "colab_type": "code",
        "outputId": "18d45cb7-7de0-4a2d-dd72-78e645dff8f9",
        "colab": {
          "base_uri": "https://localhost:8080/",
          "height": 34
        }
      },
      "source": [
        "(Xtrain.shape, ytrain.shape), (Xtest.shape, ytest.shape) "
      ],
      "execution_count": 0,
      "outputs": [
        {
          "output_type": "execute_result",
          "data": {
            "text/plain": [
              "(((60000, 28, 28), (60000,)), ((10000, 28, 28), (10000,)))"
            ]
          },
          "metadata": {
            "tags": []
          },
          "execution_count": 55
        }
      ]
    },
    {
      "cell_type": "markdown",
      "metadata": {
        "id": "OKdb7R2Sy-OD",
        "colab_type": "text"
      },
      "source": [
        "TensorFlow の場合は、訓練事例60000個が学習用55000個と検証用5000に分けられていたが、Keras では両方合わさっている。\n",
        "\n",
        "ラベルが無次元となっていることから、数字データそのものが使われていることがわかる。"
      ]
    },
    {
      "cell_type": "code",
      "metadata": {
        "id": "7JSZZAx6zxQT",
        "colab_type": "code",
        "outputId": "b8d37167-d293-4c1f-d19c-fccacc691afa",
        "colab": {
          "base_uri": "https://localhost:8080/",
          "height": 34
        }
      },
      "source": [
        "ytrain[:10]  # 先頭から10個表示"
      ],
      "execution_count": 0,
      "outputs": [
        {
          "output_type": "execute_result",
          "data": {
            "text/plain": [
              "array([5, 0, 4, 1, 9, 2, 1, 3, 1, 4], dtype=uint8)"
            ]
          },
          "metadata": {
            "tags": []
          },
          "execution_count": 56
        }
      ]
    },
    {
      "cell_type": "markdown",
      "metadata": {
        "id": "GcnQPPtp0CqP",
        "colab_type": "text"
      },
      "source": [
        "前述の通り、ニューラルネットワークの正解データは 1 of 10 表現とするのが普通である。keras.utils.to_categorical() で変換できる。"
      ]
    },
    {
      "cell_type": "code",
      "metadata": {
        "id": "9kYX_S-H0beK",
        "colab_type": "code",
        "outputId": "34721ff8-ee78-44e6-86e5-ffbae8d94af6",
        "colab": {
          "base_uri": "https://localhost:8080/",
          "height": 68
        }
      },
      "source": [
        "keras.utils.to_categorical(ytrain[:3], 10)"
      ],
      "execution_count": 0,
      "outputs": [
        {
          "output_type": "execute_result",
          "data": {
            "text/plain": [
              "array([[0., 0., 0., 0., 0., 1., 0., 0., 0., 0.],\n",
              "       [1., 0., 0., 0., 0., 0., 0., 0., 0., 0.],\n",
              "       [0., 0., 0., 0., 1., 0., 0., 0., 0., 0.]], dtype=float32)"
            ]
          },
          "metadata": {
            "tags": []
          },
          "execution_count": 62
        }
      ]
    },
    {
      "cell_type": "markdown",
      "metadata": {
        "id": "erudw8Wy1QeQ",
        "colab_type": "text"
      },
      "source": [
        "画像は Keras の場合最初から２次元表現であるので、そのまま表示できる。\n"
      ]
    },
    {
      "cell_type": "code",
      "metadata": {
        "id": "GQc7iuYa1vBX",
        "colab_type": "code",
        "outputId": "0749f240-154c-4c3c-d848-44bd9c6ca31d",
        "colab": {
          "base_uri": "https://localhost:8080/",
          "height": 83
        }
      },
      "source": [
        "for i in range(6):\n",
        "    plotchr(Xtrain[i],ytrain[i],i)"
      ],
      "execution_count": 0,
      "outputs": [
        {
          "output_type": "display_data",
          "data": {
            "image/png": "[encoded data removed]",
            "text/plain": [
              "<Figure size 432x288 with 6 Axes>"
            ]
          },
          "metadata": {
            "tags": [],
            "image/png": {
              "width": 222,
              "height": 66
            }
          }
        }
      ]
    },
    {
      "cell_type": "markdown",
      "metadata": {
        "id": "IdYGcGRl1Gdc",
        "colab_type": "text"
      },
      "source": [
        "# データ構造の確認（Chainer）"
      ]
    },
    {
      "cell_type": "markdown",
      "metadata": {
        "id": "RIodZCGo6W8S",
        "colab_type": "text"
      },
      "source": [
        "TensorFlow と Keras は画像を全て集めたデータとラベルを全部集めたデータに分離してデータが収められていたが、Chainer では画像とラベルの対、つまりタプルのリストいうデータ構造となっている。"
      ]
    },
    {
      "cell_type": "code",
      "metadata": {
        "id": "EookgILX2iol",
        "colab_type": "code",
        "outputId": "8c6b4cef-fc48-422a-a209-0a9ee2cd33e4",
        "colab": {
          "base_uri": "https://localhost:8080/",
          "height": 34
        }
      },
      "source": [
        "trainC, testC = datasets.get_mnist(ndim=3)\n",
        "print(len(trainC), len(testC), len(trainC[0]),len(testC[0]))"
      ],
      "execution_count": 0,
      "outputs": [
        {
          "output_type": "stream",
          "text": [
            "60000 10000 2 2\n"
          ],
          "name": "stdout"
        }
      ]
    },
    {
      "cell_type": "code",
      "metadata": {
        "id": "t6EaQ7Im7v6M",
        "colab_type": "code",
        "outputId": "dc70a4a0-b1b1-4ed3-9aa9-642b24b11aa6",
        "colab": {
          "base_uri": "https://localhost:8080/",
          "height": 153
        }
      },
      "source": [
        "np.set_printoptions(threshold=3)  # 要素が多い場合、最初と最後の3個のみ表示。\n",
        "print(trainC[0][0].shape, trainC[0][1])\n",
        "print(trainC[0][0])"
      ],
      "execution_count": 0,
      "outputs": [
        {
          "output_type": "stream",
          "text": [
            "(1, 28, 28) 5\n",
            "[[[0. 0. 0. ... 0. 0. 0.]\n",
            "  [0. 0. 0. ... 0. 0. 0.]\n",
            "  [0. 0. 0. ... 0. 0. 0.]\n",
            "  ...\n",
            "  [0. 0. 0. ... 0. 0. 0.]\n",
            "  [0. 0. 0. ... 0. 0. 0.]\n",
            "  [0. 0. 0. ... 0. 0. 0.]]]\n"
          ],
          "name": "stdout"
        }
      ]
    },
    {
      "cell_type": "markdown",
      "metadata": {
        "id": "lWdpL8--8jcz",
        "colab_type": "text"
      },
      "source": [
        "ndim=3 で読み込んだので、３次元データ、すなわちテンソルとなっている。１つ目の次元はデータ集合内のデータ番号であり、データ１つだけのデータ集合、というニュアンス。\n",
        "\n",
        "次に、ndim=2 で読み込んでみる。ほぼ同じに見えるが、３次元テンソルと２次元配列とでかっこが１つ違うことに注意。"
      ]
    },
    {
      "cell_type": "code",
      "metadata": {
        "id": "P5cJu2SU7_BP",
        "colab_type": "code",
        "outputId": "1f0ffad3-f9df-4d00-b468-d650b2a10ae2",
        "colab": {
          "base_uri": "https://localhost:8080/",
          "height": 170
        }
      },
      "source": [
        "trainC, testC = datasets.get_mnist(ndim=2)\n",
        "print(len(trainC), len(testC), len(trainC[0]),len(testC[0]))\n",
        "print(trainC[0][0].shape, trainC[0][1])\n",
        "print(trainC[0][0])"
      ],
      "execution_count": 0,
      "outputs": [
        {
          "output_type": "stream",
          "text": [
            "60000 10000 2 2\n",
            "(28, 28) 5\n",
            "[[0. 0. 0. ... 0. 0. 0.]\n",
            " [0. 0. 0. ... 0. 0. 0.]\n",
            " [0. 0. 0. ... 0. 0. 0.]\n",
            " ...\n",
            " [0. 0. 0. ... 0. 0. 0.]\n",
            " [0. 0. 0. ... 0. 0. 0.]\n",
            " [0. 0. 0. ... 0. 0. 0.]]\n"
          ],
          "name": "stdout"
        }
      ]
    },
    {
      "cell_type": "markdown",
      "metadata": {
        "id": "o1gd76kR_sww",
        "colab_type": "text"
      },
      "source": [
        "ndim=1 の場合。説明は不要であろう。"
      ]
    },
    {
      "cell_type": "code",
      "metadata": {
        "id": "3u4IA1VJ_okM",
        "colab_type": "code",
        "outputId": "4f2a4f76-3e94-480d-8284-53b5b4f9a228",
        "colab": {
          "base_uri": "https://localhost:8080/",
          "height": 68
        }
      },
      "source": [
        "trainC, testC = datasets.get_mnist(ndim=1)\n",
        "print(len(trainC), len(testC), len(trainC[0]),len(testC[0]))\n",
        "print(trainC[0][0].shape, trainC[0][1])\n",
        "print(trainC[0][0])"
      ],
      "execution_count": 0,
      "outputs": [
        {
          "output_type": "stream",
          "text": [
            "60000 10000 2 2\n",
            "(784,) 5\n",
            "[0. 0. 0. ... 0. 0. 0.]\n"
          ],
          "name": "stdout"
        }
      ]
    },
    {
      "cell_type": "code",
      "metadata": {
        "id": "pQJY6v5q_2rS",
        "colab_type": "code",
        "outputId": "22595841-d668-47af-a932-07031bcaeb99",
        "colab": {
          "base_uri": "https://localhost:8080/",
          "height": 83
        }
      },
      "source": [
        "for i in range(6):\n",
        "    plotchr(trainC[i][0].reshape((28,28)),trainC[i][1],i)"
      ],
      "execution_count": 0,
      "outputs": [
        {
          "output_type": "display_data",
          "data": {
            "image/png": "[encoded data removed]",
            "text/plain": [
              "<Figure size 432x288 with 6 Axes>"
            ]
          },
          "metadata": {
            "tags": [],
            "image/png": {
              "width": 222,
              "height": 66
            }
          }
        }
      ]
    },
    {
      "cell_type": "code",
      "metadata": {
        "id": "NsjE3tVIQk0B",
        "colab_type": "code",
        "colab": {}
      },
      "source": [
        ""
      ],
      "execution_count": 0,
      "outputs": []
    }
  ]
}