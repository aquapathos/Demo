{
  "nbformat": 4,
  "nbformat_minor": 0,
  "metadata": {
    "colab": {
      "name": "TSP3",
      "version": "0.3.2",
      "provenance": [],
      "collapsed_sections": [],
      "toc_visible": true,
      "include_colab_link": true
    },
    "kernelspec": {
      "name": "python3",
      "display_name": "Python 3"
    },
    "accelerator": "GPU"
  },
  "cells": [
    {
      "cell_type": "markdown",
      "metadata": {
        "id": "view-in-github",
        "colab_type": "text"
      },
      "source": [
        "<a href=\"https://colab.research.google.com/github/aquapathos/Demo/blob/master/TSP3.ipynb\" target=\"_parent\"><img src=\"https://colab.research.google.com/assets/colab-badge.svg\" alt=\"Open In Colab\"/></a>"
      ]
    },
    {
      "cell_type": "markdown",
      "metadata": {
        "id": "qkEA_Mdo9hV2",
        "colab_type": "text"
      },
      "source": [
        "# 次のブロックは最初1度だけ実行すれ良い\n",
        "日本語はランタイムの再起動時に有効になるので，実行後再起動"
      ]
    },
    {
      "cell_type": "code",
      "metadata": {
        "id": "YjkctE5y_QXH",
        "colab_type": "code",
        "outputId": "56abf8d5-fd66-4e4f-949a-3447695b0c2a",
        "colab": {
          "base_uri": "https://localhost:8080/",
          "height": 177
        }
      },
      "source": [
        "# 日本語フォントをダウンロードする。１度だけ実行\n",
        "!apt-get -y install fonts-ipafont-gothic\n",
        "# キャッシュを削除する。\n",
        "!rm /root/.cache/matplotlib/fontlist-v300.json\n",
        "# ランタイムを再起動する。"
      ],
      "execution_count": 2,
      "outputs": [
        {
          "output_type": "stream",
          "text": [
            "\rReading package lists... 0%\r\rReading package lists... 0%\r\rReading package lists... 0%\r\rReading package lists... 7%\r\rReading package lists... 7%\r\rReading package lists... 7%\r\rReading package lists... 7%\r\rReading package lists... 69%\r\rReading package lists... 69%\r\rReading package lists... 70%\r\rReading package lists... 70%\r\rReading package lists... 75%\r\rReading package lists... 75%\r\rReading package lists... 75%\r\rReading package lists... 75%\r\rReading package lists... 84%\r\rReading package lists... 84%\r\rReading package lists... 84%\r\rReading package lists... 84%\r\rReading package lists... 84%\r\rReading package lists... 84%\r\rReading package lists... 84%\r\rReading package lists... 84%\r\rReading package lists... 88%\r\rReading package lists... 88%\r\rReading package lists... 88%\r\rReading package lists... 88%\r\rReading package lists... 91%\r\rReading package lists... 93%\r\rReading package lists... 93%\r\rReading package lists... 93%\r\rReading package lists... 93%\r\rReading package lists... 94%\r\rReading package lists... 94%\r\rReading package lists... 94%\r\rReading package lists... 94%\r\rReading package lists... 95%\r\rReading package lists... 95%\r\rReading package lists... 98%\r\rReading package lists... 98%\r\rReading package lists... 98%\r\rReading package lists... 98%\r\rReading package lists... Done\r\n",
            "\rBuilding dependency tree... 0%\r\rBuilding dependency tree... 0%\r\rBuilding dependency tree... 50%\r\rBuilding dependency tree... 50%\r\rBuilding dependency tree       \r\n",
            "\rReading state information... 0%\r\rReading state information... 0%\r\rReading state information... Done\r\n",
            "fonts-ipafont-gothic is already the newest version (00303-18ubuntu1).\n",
            "The following package was automatically installed and is no longer required:\n",
            "  libnvidia-common-410\n",
            "Use 'apt autoremove' to remove it.\n",
            "0 upgraded, 0 newly installed, 0 to remove and 16 not upgraded.\n",
            "rm: cannot remove '/root/.cache/matplotlib/fontlist-v300.json': No such file or directory\n"
          ],
          "name": "stdout"
        }
      ]
    },
    {
      "cell_type": "code",
      "metadata": {
        "id": "yCHrnzqTPf9n",
        "colab_type": "code",
        "outputId": "aa5f0edf-8da6-4add-edfe-2b475923ef23",
        "colab": {
          "base_uri": "https://localhost:8080/",
          "height": 126
        }
      },
      "source": [
        "# Google Drive のマウント\n",
        "from google.colab import drive\n",
        "drive.mount('/gdrive')"
      ],
      "execution_count": 1,
      "outputs": [
        {
          "output_type": "stream",
          "text": [
            "Go to this URL in a browser: https://accounts.google.com/o/oauth2/auth?client_id=947318989803-6bn6qk8qdgf4n4g3pfee6491hc0brc4i.apps.googleusercontent.com&redirect_uri=urn%3Aietf%3Awg%3Aoauth%3A2.0%3Aoob&scope=email%20https%3A%2F%2Fwww.googleapis.com%2Fauth%2Fdocs.test%20https%3A%2F%2Fwww.googleapis.com%2Fauth%2Fdrive%20https%3A%2F%2Fwww.googleapis.com%2Fauth%2Fdrive.photos.readonly%20https%3A%2F%2Fwww.googleapis.com%2Fauth%2Fpeopleapi.readonly&response_type=code\n",
            "\n",
            "Enter your authorization code:\n",
            "··········\n",
            "Mounted at /gdrive\n"
          ],
          "name": "stdout"
        }
      ]
    },
    {
      "cell_type": "code",
      "metadata": {
        "colab_type": "code",
        "id": "NEpThG_E-0b5",
        "outputId": "1d49e889-cfed-421c-f58c-ef55cf1170d9",
        "colab": {
          "base_uri": "https://localhost:8080/",
          "height": 232
        }
      },
      "source": [
        "!git clone https://github.com/jvkersch/pyconcorde\n",
        "% cd pyconcorde\n",
        "!pip install -e .\n",
        "% cd /content"
      ],
      "execution_count": 2,
      "outputs": [
        {
          "output_type": "stream",
          "text": [
            "fatal: destination path 'pyconcorde' already exists and is not an empty directory.\n",
            "/content/pyconcorde\n",
            "Obtaining file:///content/pyconcorde\n",
            "Requirement already satisfied: cython>=0.22.0 in /usr/local/lib/python3.6/dist-packages (from pyconcorde==0.1.0) (0.29.10)\n",
            "Requirement already satisfied: numpy>=1.10.0 in /usr/local/lib/python3.6/dist-packages (from pyconcorde==0.1.0) (1.16.4)\n",
            "Installing collected packages: pyconcorde\n",
            "  Found existing installation: pyconcorde 0.1.0\n",
            "    Can't uninstall 'pyconcorde'. No files were found to uninstall.\n",
            "  Running setup.py develop for pyconcorde\n",
            "Successfully installed pyconcorde\n",
            "/content\n"
          ],
          "name": "stdout"
        }
      ]
    },
    {
      "cell_type": "markdown",
      "metadata": {
        "id": "609pYwU2RXP3",
        "colab_type": "text"
      },
      "source": [
        "# 一度だけ実行するブロックはここまで\n",
        "\n",
        "\n",
        "---\n",
        "\n"
      ]
    },
    {
      "cell_type": "markdown",
      "metadata": {
        "id": "fE75yF0uRW6S",
        "colab_type": "text"
      },
      "source": [
        ""
      ]
    },
    {
      "cell_type": "code",
      "metadata": {
        "id": "pX5pxZCvFaMR",
        "colab_type": "code",
        "outputId": "f954de4b-538a-4cef-9a89-3c932b99b82c",
        "colab": {
          "base_uri": "https://localhost:8080/",
          "height": 35
        }
      },
      "source": [
        "import cv2\n",
        "from google.colab.patches import cv2_imshow\n",
        "import matplotlib.pyplot as plt\n",
        "import numpy as np\n",
        "import tensorflow.compat.v1 as tf\n",
        "import seaborn as sns\n",
        "import keras\n",
        "from keras.models import Sequential,Model\n",
        "from keras.layers import Conv2D, MaxPooling2D, Flatten\n",
        "from keras.layers import Input, Conv2DTranspose,Concatenate\n",
        "from keras.layers import BatchNormalization\n",
        "from keras.layers.normalization import BatchNormalization\n",
        "from keras.layers import add, concatenate\n",
        "import keras.backend.tensorflow_backend as KTF\n",
        "from keras.callbacks import EarlyStopping, CSVLogger\n",
        "from keras.layers.core import Dense, Dropout, Activation\n",
        "from keras.layers import LeakyReLU\n",
        "from keras.optimizers import Adam\n",
        "from keras.utils import to_categorical\n",
        "from keras.utils import plot_model\n",
        "\n",
        "import pickle\n",
        "\n",
        "\n"
      ],
      "execution_count": 3,
      "outputs": [
        {
          "output_type": "stream",
          "text": [
            "Using TensorFlow backend.\n"
          ],
          "name": "stderr"
        }
      ]
    },
    {
      "cell_type": "markdown",
      "metadata": {
        "id": "9dyhgvF-LZ9A",
        "colab_type": "text"
      },
      "source": [
        "# メモ\n",
        "三木、榎原の論文では、頂点を描画半径1.5で描くとしているが、デジタル画像で　1.5　幅の円を描くとすれば、\n",
        "1. ３×３の矩形とする\n",
        "2.  １点を中心に上下左右とする\n",
        "3.   １点を中心に４近傍は１、８近傍は 200（≒255*3.14/4) とする\n",
        "あたりで近似せざるをえない。\n",
        "\n",
        "とりあえず、３の方法を採ることにする。\n"
      ]
    },
    {
      "cell_type": "code",
      "metadata": {
        "id": "YJdLPYqSF-4c",
        "colab_type": "code",
        "colab": {}
      },
      "source": [
        "from concorde.tsp import TSPSolver\n",
        "from concorde.tests.data_utils import get_dataset_path\n",
        "\n",
        "XSIZE = 192\n",
        "YSIZE = 192\n",
        "MSIZE = 2 # 周辺にとるマージン \n",
        "\n",
        "# 巡回する点を生成する関数\n",
        "def genTSP(pnum = 3, xsize=XSIZE,ysize=YSIZE, msize = MSIZE):\n",
        "    \n",
        "    # 訪問地点を指定数　（pnum）重複なく生成　ただし周辺は避ける\n",
        "    posnumA,  posA = [], []\n",
        "    while len(posnumA)<pnum:\n",
        "        a = np.random.randint(0,(xsize-2*msize)*(ysize-2*msize))\n",
        "        if a not in posnumA:\n",
        "            posnumA.append(a)\n",
        "            y = a//(xsize-2*msize)+msize\n",
        "            x = a%(xsize-2*msize)+msize\n",
        "            posA.append([x,y])\n",
        " \n",
        "     #  画像の生成  \n",
        "    tspimg = np.zeros((ysize,xsize),np.uint8) # 問題となる画像　　\n",
        "    refimg = np.ones((ysize,xsize,3),np.uint8)*100  # 表示用の画像\n",
        "\n",
        "    # 選ばれた点を描く\n",
        "    for [x,y] in posA:\n",
        "        timg = tspimg[y-1:y+2,x-1:x+2]  # 点が隣接していて重なる場合、明るい方の色で描くことにする。\n",
        "        tspimg[y-1:y+2,x-1:x+2] = np.bitwise_or(timg, np.array([[200,255,200],[255,255,255],[200,255,200]]))\n",
        "        refimg = cv2.circle(refimg,(x,y),2,(0,255,255),-1)  # 表示用の方は少し誇張して描く\n",
        "        \n",
        "    return np.array(posA),tspimg,refimg"
      ],
      "execution_count": 0,
      "outputs": []
    },
    {
      "cell_type": "code",
      "metadata": {
        "id": "GWoQTWzzIzTL",
        "colab_type": "code",
        "outputId": "7cb408e8-6dea-4948-ffec-0a0c053bd386",
        "colab": {
          "base_uri": "https://localhost:8080/",
          "height": 324
        }
      },
      "source": [
        "# 動作確認\n",
        "plt.rcParams['figure.figsize'] = (10.0, 10.0)\n",
        "# jp_font = {'fontname':'IPAGothic'}\n",
        "sns.set(font='IPAGothic')\n",
        "_,tspimg,refimg = genTSP(100)\n",
        "plt.subplot(1,2,1)\n",
        "plt.xticks([])\n",
        "plt.yticks([])\n",
        "plt.imshow(refimg[:,:,::-1])\n",
        "plt.title(\"{}\".format(\"巡回地点マップ(表示用)\"))\n",
        "plt.subplot(1,2,2)\n",
        "plt.xticks([])\n",
        "plt.yticks([])\n",
        "plt.imshow(tspimg)\n",
        "plt.gray()\n",
        "plt.title(\"{}\".format(\"巡回地点マップ\"))"
      ],
      "execution_count": 5,
      "outputs": [
        {
          "output_type": "execute_result",
          "data": {
            "text/plain": [
              "Text(0.5, 1.0, '巡回地点マップ')"
            ]
          },
          "metadata": {
            "tags": []
          },
          "execution_count": 5
        },
        {
          "output_type": "display_data",
          "data": {
            "image/png": "[encoded data removed]",
            "text/plain": [
              "<Figure size 720x720 with 2 Axes>"
            ]
          },
          "metadata": {
            "tags": []
          }
        }
      ]
    },
    {
      "cell_type": "markdown",
      "metadata": {
        "id": "5lJvyjn5I-AT",
        "colab_type": "text"
      },
      "source": [
        "# TSPの学習用データの生成（concorde法）\n",
        "- https://github.com/jvkersch/pyconcorde のプログラムを使わせていただく"
      ]
    },
    {
      "cell_type": "code",
      "metadata": {
        "id": "CyxBFc3gbx1f",
        "colab_type": "code",
        "colab": {}
      },
      "source": [
        "# !git clone https://github.com/jvkersch/pyconcorde\n",
        "# % cd pyconcorde\n",
        "# !pip install -e ."
      ],
      "execution_count": 0,
      "outputs": []
    },
    {
      "cell_type": "markdown",
      "metadata": {
        "id": "8h8mvQB2d4Gp",
        "colab_type": "text"
      },
      "source": [
        "# Concorde TSP Solver の動作確認"
      ]
    },
    {
      "cell_type": "code",
      "metadata": {
        "id": "9JsSw97ZdbDm",
        "colab_type": "code",
        "outputId": "d8b042cd-f000-4ad9-9094-b66e964ce21f",
        "colab": {
          "base_uri": "https://localhost:8080/",
          "height": 289
        }
      },
      "source": [
        "plt.figure(figsize=(12, 6), dpi=100)\n",
        "for i in range(4):\n",
        "    plt.subplot(1, 4, i+1)\n",
        "    poss, img, rimg = genTSP(pnum=np.random.randint(20,100),xsize=XSIZE,ysize=YSIZE,msize=2)\n",
        "    xs = [x for [x,y] in poss]\n",
        "    ys = [y for [x,y] in poss]\n",
        "    solver = TSPSolver.from_data(xs,ys,norm=\"EUC_2D\")\n",
        "    solution = solver.solve()\n",
        "    ps = solution.tour\n",
        "    cv2.line(rimg,(xs[ps[0]],ys[ps[0]]),(xs[ps[-1]],ys[ps[-1]]),(255,255,255),1)\n",
        "    p0 = ps[0]\n",
        "    for p1 in ps[1:]:\n",
        "      rimg = cv2.line(rimg,(xs[p0],ys[p0]),(xs[p1],ys[p1]),(255,255,255),1)\n",
        "      p0 = p1\n",
        "    plt.imshow(rimg[:,:,::-1])\n",
        "    plt.axis('off')"
      ],
      "execution_count": 6,
      "outputs": [
        {
          "output_type": "display_data",
          "data": {
            "image/png": "[encoded data removed]",
            "text/plain": [
              "<Figure size 1200x600 with 4 Axes>"
            ]
          },
          "metadata": {
            "tags": []
          }
        }
      ]
    },
    {
      "cell_type": "markdown",
      "metadata": {
        "id": "X7TaKZkaATzh",
        "colab_type": "text"
      },
      "source": [
        "# TSPの問題画像と解画像の生成"
      ]
    },
    {
      "cell_type": "code",
      "metadata": {
        "id": "dVHxiAs3d7V4",
        "colab_type": "code",
        "colab": {}
      },
      "source": [
        "XSIZE,YSIZE,MSIZE = 192,192, 2\n",
        "minP = 20\n",
        "maxP = 100\n",
        "\n",
        "# TSPの問題と答えの生成(1セット) \n",
        "def genTSPSample(minP, maxP, xsize=XSIZE, ysize=YSIZE, msize=MSIZE):\n",
        "    plist, img, _rimg = genTSP(pnum=np.random.randint(minP,maxP),xsize=XSIZE,ysize=YSIZE,msize=MSIZE)\n",
        "\n",
        "    # TSP の最適解を求める\n",
        "    xs = [x for [x,y] in plist]  # X座標のみのリスト\n",
        "    ys = [y for [x,y] in plist]  # Y座標のみのリスト\n",
        "    solver = TSPSolver.from_data(xs,ys,norm=\"EUC_2D\")\n",
        "    solution = solver.solve()\n",
        "    tspsol = solution.tour # インデックス表現した解\n",
        "    \n",
        "    # 解画像を生成する\n",
        "    simg = np.zeros_like(img)\n",
        "    cv2.line(simg,(xs[ps[0]],ys[ps[0]]),(xs[tspsol[-1]],ys[tspsol[-1]]),255,1)\n",
        "    p0 = tspsol[0]\n",
        "    for p1 in tspsol[1:]:\n",
        "        simg = cv2.line(simg,(xs[p0],ys[p0]),(xs[p1],ys[p1]),255,1)\n",
        "        p0 = p1\n",
        "\n",
        "    return (plist, tspsol, img, simg)\n",
        "\n",
        "# TSPの解と正解のペアを指定数生成する関数\n",
        "\n",
        "XSIZE,YSIZE,MSIZE = 192,192, 2\n",
        "minP = 20  # 地点数の最小値\n",
        "maxP = 100 # 地点数の最大値\n",
        "\n",
        "def genTSPSamples(num = 100, minP = minP, maxP = maxP, xsize=XSIZE, ysize=YSIZE, msize=MSIZE):\n",
        "    data = []  \n",
        "    for i in range(num):\n",
        "        data.append(genTSPSample(minP=minP, maxP=maxP, xsize=XSIZE, ysize=YSIZE, msize=MSIZE))\n",
        "    return data\n"
      ],
      "execution_count": 0,
      "outputs": []
    },
    {
      "cell_type": "markdown",
      "metadata": {
        "id": "tRsi9pH4_unv",
        "colab_type": "text"
      },
      "source": [
        "# 訓練例の生成\n",
        "せっかく作ったデータなので，google drive にも保存しておくことにする"
      ]
    },
    {
      "cell_type": "code",
      "metadata": {
        "id": "Ehoa_SDxmPyv",
        "colab_type": "code",
        "colab": {}
      },
      "source": [
        "%%time\n",
        "\n",
        "SETNUM = 2\n",
        "\n",
        "for i in range(SETNUM):\n",
        "    pset = genTSPSamples(1000)\n",
        "    f = open('/gdrive/My Drive/test1000_'+str(i),'wb')\n",
        "    pickle.dump(pset,f)\n",
        "    f.close"
      ],
      "execution_count": 0,
      "outputs": []
    },
    {
      "cell_type": "markdown",
      "metadata": {
        "id": "mTdoL5lmBFD3",
        "colab_type": "text"
      },
      "source": [
        "## google drive からのデータの読み込み "
      ]
    },
    {
      "cell_type": "code",
      "metadata": {
        "id": "uWglYJVJ_7FP",
        "colab_type": "code",
        "outputId": "bdcba175-1baa-4f46-c086-babccfca00d0",
        "colab": {
          "base_uri": "https://localhost:8080/",
          "height": 52
        }
      },
      "source": [
        "%%time\n",
        "f1 = open('/gdrive/My Drive/test1000_0','rb')\n",
        "f2 = open('/gdrive/My Drive/test1000_1','rb')\n",
        "train = pickle.load(f1)\n",
        "testdata = pickle.load(f2)\n",
        "f1.close\n",
        "f2.close"
      ],
      "execution_count": 8,
      "outputs": [
        {
          "output_type": "stream",
          "text": [
            "CPU times: user 74.4 ms, sys: 161 ms, total: 236 ms\n",
            "Wall time: 2.13 s\n"
          ],
          "name": "stdout"
        }
      ]
    },
    {
      "cell_type": "markdown",
      "metadata": {
        "id": "wuDRtQ3yBZoq",
        "colab_type": "text"
      },
      "source": [
        "## 読み込みデータの確認"
      ]
    },
    {
      "cell_type": "code",
      "metadata": {
        "id": "1Kzot2f1m56x",
        "colab_type": "code",
        "outputId": "a0f6a501-90bd-43e5-eaca-64f81dd7f4cc",
        "colab": {
          "base_uri": "https://localhost:8080/",
          "height": 850
        }
      },
      "source": [
        "plt.figure(figsize=(6, 12), dpi=200)\n",
        "simg = np.ones((800,1000),np.uint8)*255\n",
        "for j in range(5):\n",
        "    i = 0\n",
        "    simg[400*i:400*i+192,200*j:200*j+192] = cv2.resize(train[5*i+j][2],(192,192))\n",
        "    simg[400*i+200:400*i+392,200*j:200*j+192] = cv2.resize(train[5*i+j][3],(192,192))\n",
        "    i = 1\n",
        "    simg[400*i:400*i+192,200*j:200*j+192] = cv2.resize(testdata[5*i+j][2],(192,192))\n",
        "    simg[400*i+200:400*i+392,200*j:200*j+192] = cv2.resize(testdata[5*i+j][3],(192,192))\n",
        "plt.xticks([])\n",
        "plt.yticks([])\n",
        "plt.gray()\n",
        "plt.imshow(simg)"
      ],
      "execution_count": 9,
      "outputs": [
        {
          "output_type": "execute_result",
          "data": {
            "text/plain": [
              "<matplotlib.image.AxesImage at 0x7f7db7f8c7f0>"
            ]
          },
          "metadata": {
            "tags": []
          },
          "execution_count": 9
        },
        {
          "output_type": "display_data",
          "data": {
            "image/png": "[encoded data removed]",
            "text/plain": [
              "<Figure size 1200x2400 with 1 Axes>"
            ]
          },
          "metadata": {
            "tags": []
          }
        }
      ]
    },
    {
      "cell_type": "markdown",
      "metadata": {
        "id": "3ax5kfTSCc7I",
        "colab_type": "text"
      },
      "source": [
        "# ローカルミニマ\n",
        "\n",
        "192x192に対し，20～100点だと平均経路長がいくらになるかはわからないが，1000～2000程度だとして95％～が黒であるから，常に真っ黒の画像を出力しても正答率は95％程度となってしまう．\n",
        "\n",
        "何度か試したところ，ただちにaccuracy 0.9725,  loss 0.0278に収束するケースが多々あった．それは全部が出力０，真っ黒の画像となっていることを意味する．そうなったらあきらめて設定を変えるしかない．\n",
        "\n",
        "もちろんローカルミニマに陥るかどうか，収束値がいくらであるかはデータセット次第である．\n"
      ]
    },
    {
      "cell_type": "markdown",
      "metadata": {
        "id": "tDXeDGIL_yel",
        "colab_type": "text"
      },
      "source": [
        "# 論文通りのCNNモデル\n",
        "1点だけ変更　入出力データを０～１に正規化   \n",
        "そうしないと標準の　Adam 最適化器のデフォルト設定では即発散し，かといって係数を小さくとるとローカルミニマにとらわれる．"
      ]
    },
    {
      "cell_type": "code",
      "metadata": {
        "id": "OJvtYhGFZ7Vj",
        "colab_type": "code",
        "colab": {}
      },
      "source": [
        "K5 = (5,5)\n",
        "K6 = (6,6)\n",
        "K7 = (7,7)\n",
        "K8 = (8,8)\n",
        "slope_co = 0.2 # 0ならReLU\n",
        "\n",
        "input = Input(shape=(192,192,1))\n",
        "# Layer 1  (192,192,1) -> strides1 -> (192,192,32)\n",
        "conv1 = Conv2D(32, K5, padding='same', strides=1)(input)\n",
        "#conv1 = BatchNormalization()(conv1)\n",
        "conv1 = LeakyReLU(alpha=slope_co)(conv1)\n",
        "\n",
        "# Layer 2  (192,192,32) -> strides2 -> (96,96,32)\n",
        "conv2 = Conv2D(32, K6, strides=2,padding='same')(conv1)\n",
        "#conv2 = BatchNormalization()(conv2)\n",
        "conv2 = LeakyReLU(alpha=slope_co)(conv2)\n",
        "\n",
        "# Layer 3  (96,96,32) -> strides1 -> (96,96,64)\n",
        "conv3 = Conv2D(64, K5, strides=1, padding='same')(conv2)\n",
        "conv3 = LeakyReLU(alpha=slope_co)(conv3)\n",
        "\n",
        "# Layer 4  (96,96,64) -> strides2 -> (48,48,64)\n",
        "conv4 = Conv2D(64, K8, strides=2, padding='same')(conv3)\n",
        "conv4 = LeakyReLU(alpha=slope_co)(conv4)\n",
        "\n",
        "# Layer 5  (48,48,64) -> strides1 -> (48,48,96)\n",
        "conv5 = Conv2D(96, K7, strides=1, padding='same')(conv4)\n",
        "conv5 = LeakyReLU(alpha=slope_co)(conv5)\n",
        "\n",
        "# Layer 6  (48,48,96) -> strides2 -> (24,24,96)\n",
        "conv6 = Conv2D(96, K8, strides=2, padding='same')(conv5)\n",
        "conv6 = LeakyReLU(alpha=slope_co)(conv6)\n",
        "\n",
        "# Layer 7  (24,24,96) -> strides1 -> (24,24,128)\n",
        "conv7 = Conv2D(128, K7, strides=1, padding='same')(conv6)\n",
        "conv7 = LeakyReLU(alpha=slope_co)(conv7)\n",
        "\n",
        "# Layer 8  (24,24,128) -> strides2 -> (12,12,128)\n",
        "conv8 = Conv2D(128, K8, strides=2, padding='same')(conv7)\n",
        "conv8 = LeakyReLU(alpha=slope_co)(conv8)\n",
        "\n",
        "# Layer 9  (12,12,128) -> strides1 -> (12,12,160)\n",
        "conv9 = Conv2D(160, K7, strides=1, padding='same')(conv8)\n",
        "conv9 = LeakyReLU(alpha=slope_co)(conv9)\n",
        "conv9 = concatenate([conv8,conv9])\n",
        "\n",
        "# Layer 10 UP (12,12,160) -> strides2 -> (24,24,160)\n",
        "conv10 = Conv2DTranspose(160, K8, strides=2, padding='same')(conv9)\n",
        "conv10 = LeakyReLU(alpha=slope_co)(conv10)\n",
        "\n",
        "# Layer 11  (24,24,160) -> strides1 -> (24,24,128)\n",
        "conv11 = Conv2D(128, K7, strides=1, padding='same')(conv10)\n",
        "conv11 = LeakyReLU(alpha=slope_co)(conv11)\n",
        "conv11 = concatenate([conv7,conv11])\n",
        "\n",
        "# Layer 12 UP (24,24,128) -> strides2 -> (48,48,128)\n",
        "conv12 = Conv2DTranspose(128, K8, strides=2, padding='same')(conv11)\n",
        "conv12 = LeakyReLU(alpha=slope_co)(conv12)\n",
        "\n",
        "# Layer 13  (48,48,128) -> strides1 -> (48,48,96)\n",
        "conv13 = Conv2D(96, K7, strides=1, padding='same')(conv12)\n",
        "conv13 = LeakyReLU(alpha=slope_co)(conv13)\n",
        "conv13 = concatenate([conv5,conv13])\n",
        "\n",
        "# Layer 14 UP (48,48,96) -> strides2 -> (96,96,96)\n",
        "conv14 = Conv2DTranspose(128, K8,strides=2, padding='same')(conv13)\n",
        "conv14 = LeakyReLU(alpha=slope_co)(conv14)\n",
        "\n",
        "# Layer 15  (96,96,96) -> strides1 -> (96,96,64)\n",
        "conv15 = Conv2D(64, K7, strides=1 ,padding='same')(conv14)\n",
        "conv15 = LeakyReLU(alpha=slope_co)(conv15)\n",
        "conv15 = concatenate([conv3,conv15])\n",
        "\n",
        "# Layer 16 UP (96,96,64) -> strides2 -> (192,192,64)\n",
        "conv16 = Conv2DTranspose(64, K6, strides=2, padding='same')(conv15)\n",
        "conv16 = LeakyReLU(alpha=slope_co)(conv16)\n",
        "\n",
        "# Layer 17  (192,192,64) -> strides1 -> (192,192,32)\n",
        "conv17 = Conv2D(32, K5, strides=1, padding='same')(conv16)\n",
        "conv17 = LeakyReLU(alpha=slope_co)(conv17)\n",
        "\n",
        "# Layer 18  (192,192,32) -> strides1 -> (192,192,1)\n",
        "output = Conv2D(1, K5, strides=1, padding='same')(conv17)\n",
        "# output = Activation('hard_sigmoid')(output)\n",
        "\n",
        "# Model\n",
        "\n",
        "orig_model = Model(input,output)\n",
        "\n",
        "orig_model.summary()"
      ],
      "execution_count": 0,
      "outputs": []
    },
    {
      "cell_type": "markdown",
      "metadata": {
        "id": "-4iu1zewBwzP",
        "colab_type": "text"
      },
      "source": [
        "# モデルの可視化"
      ]
    },
    {
      "cell_type": "code",
      "metadata": {
        "id": "1Ssax6-fd4kC",
        "colab_type": "code",
        "colab": {}
      },
      "source": [
        "from IPython.display import Image, display_png\n",
        "%cd /content\n",
        "#学習モデル図の作成\n",
        "plot_model(orig_model, to_file='orig_model.png')\n",
        "display_png(Image('orig_model.png'))"
      ],
      "execution_count": 0,
      "outputs": []
    },
    {
      "cell_type": "markdown",
      "metadata": {
        "id": "97VhoKxHeA0a",
        "colab_type": "text"
      },
      "source": [
        "# 論文に記述のない変更点\n",
        "\n",
        "- Adamの学習係数をデフォルトの１０分の１とする．デフォルトは0.001 → 0.0001\n",
        "- 入出力を０～１に正規化\n",
        "\n",
        "## メモ\n",
        "最終段の活性化関数を恒等変換とするとのことであるが，その意味がいまいちわからない．かといって，0～1となるよう sigmoid を使うと，あらゆる入力に対して常に真っ黒の画像を答えるような回路に収束してしまう．解画像の白画素が常に少ないので，常に黒と答えても97％程度の正解率となるのだからそれももっともである．"
      ]
    },
    {
      "cell_type": "code",
      "metadata": {
        "id": "Y55qI2F9ACjN",
        "colab_type": "code",
        "colab": {}
      },
      "source": [
        "orig_model.compile(loss= 'mean_squared_error',#  'binary_crossentropy',#   # 'binary_crossentropy', # ,\n",
        "              # optimizer = keras.optimizers.Adamax(lr=0.002, beta_1=0.9, beta_2=0.999, epsilon=None, decay=0.0),\n",
        "              optimizer = Adam(lr=0.0001, beta_1=0.9, beta_2=0.999, epsilon=1e-08, decay=0.0),\n",
        "              # optimizer = keras.optimizers.SGD(lr=0.01, momentum=0.0, decay=0.0, nesterov=False),\n",
        "              metrics=['accuracy'])"
      ],
      "execution_count": 0,
      "outputs": []
    },
    {
      "cell_type": "code",
      "metadata": {
        "id": "qI9nWD_mAOA3",
        "colab_type": "code",
        "colab": {}
      },
      "source": [
        "Xex = np.array([x[2] for x in train])\n",
        "Yex = np.array([y[3] for y in train])\n",
        "\n",
        "dsize = len(Xex)\n",
        "batch_size = 25\n",
        "epochs = 100\n",
        "\n",
        "X1 = np.array(Xex).reshape(dsize,192*192).astype('float32')\n",
        "X1 = X1/255\n",
        "X1 = X1.reshape(-1,192,192,1)\n",
        "Y1 = np.array(Yex).reshape(dsize,192*192).astype('float32')\n",
        "Y1 = Y1/255\n",
        "Y1 = Y1.reshape(-1,192,192,1)\n",
        "\n",
        "es = EarlyStopping(monitor='val_loss', patience=2)   #  検証用データのロスが改善されなくなったら2エポック後に停止\n",
        "tb_cb = keras.callbacks.TensorBoard(log_dir='tblog', histogram_freq=1, write_graph=True)\n",
        "csv_logger = CSVLogger('training.log')\n",
        "hist = orig_model.fit(X1, Y1,\n",
        "                 batch_size=batch_size,\n",
        "                 epochs=epochs,\n",
        "                 verbose=1,\n",
        "                 validation_split=0.2, # 20 % は検証用に利用する\n",
        "                 #callbacks=[es, csv_logger,tb_cb])\n",
        "                  callbacks=[es, csv_logger])"
      ],
      "execution_count": 0,
      "outputs": []
    },
    {
      "cell_type": "code",
      "metadata": {
        "id": "EX1GN1Lwgw6R",
        "colab_type": "code",
        "colab": {}
      },
      "source": [
        "x = hist.history['acc']\n",
        "plt.plot(range(1, len(x)+1), x,label=\"validation\")\n",
        "plt.xlabel('Epochs')\n",
        "plt.ylabel('Accuracy')\n",
        "plt.ylim([0.9, 1])\n",
        "plt.legend()\n",
        "plt.show()"
      ],
      "execution_count": 0,
      "outputs": []
    },
    {
      "cell_type": "markdown",
      "metadata": {
        "id": "5qvGPgjnGBx0",
        "colab_type": "text"
      },
      "source": [
        "# テストデータでも経路っぽい出力がでるかどうか確認"
      ]
    },
    {
      "cell_type": "code",
      "metadata": {
        "id": "zpXcAZ7vAnnK",
        "colab_type": "code",
        "colab": {}
      },
      "source": [
        "Xtex = np.array([x[2] for x in testdata[:5]])\n",
        "Ytex = np.array([y[3] for y in testdata[:5]])\n",
        "\n",
        "def test(X,Y,i):\n",
        "    output = orig_model.predict(X[i].reshape(-1,192,192,1))\n",
        "    # output = (output*255).astype(np.uint8)\n",
        "    output = np.ndarray.flatten(output)\n",
        "    output = output.reshape(192,192)\n",
        "    fig = plt.figure(figsize=(8,2))\n",
        "    subplot = fig.add_subplot(1,3,1)\n",
        "    subplot.set_xticks([])\n",
        "    subplot.set_yticks([])\n",
        "    subplot.imshow(255-X[i],cmap=plt.cm.binary)\n",
        "    subplot = fig.add_subplot(1,3,2)\n",
        "    subplot.set_xticks([])\n",
        "    subplot.set_yticks([])\n",
        "    print(output.max())\n",
        "    output = output\n",
        "    subplot.imshow(1-output,cmap=plt.cm.binary)\n",
        "    subplot = fig.add_subplot(1,3,3)\n",
        "    subplot.set_xticks([])\n",
        "    subplot.set_yticks([])\n",
        "    subplot.imshow(255-Y[i],cmap=plt.cm.binary)\n",
        "for i in range(5):\n",
        "    test(Xtex,Ytex,i)"
      ],
      "execution_count": 0,
      "outputs": []
    },
    {
      "cell_type": "markdown",
      "metadata": {
        "id": "Bd3_yzJNrRCx",
        "colab_type": "text"
      },
      "source": [
        "# My CNNモデル\n",
        "榎原論文との違い\n",
        "1. LeakyReLU ではなく普通の ReLU\n",
        "2. 圧縮の最終段（１２x１２となるところ）にBatchNormalization を挿入\n",
        "3. 入出力を/255 して０～１に\n",
        "\n",
        "- LeakyReLU を採用しておられるのには何か理由があるのだろうけれど，わからないので ReLUではだめなのか試す\n",
        "- BatchNormalization や Drop が使われていないので入れてみた．BatchNormalization を入れると収束が早く，振動や発散しにくくなるといわれている．"
      ]
    },
    {
      "cell_type": "code",
      "metadata": {
        "id": "cuXNTddkt-vR",
        "colab_type": "code",
        "colab": {}
      },
      "source": [
        "# データの読み込み\n",
        "%%time\n",
        "f1 = open('/gdrive/My Drive/test1000_0','rb')\n",
        "f2 = open('/gdrive/My Drive/test1000_1','rb')\n",
        "train = pickle.load(f1)\n",
        "testdata = pickle.load(f2)\n",
        "f1.close\n",
        "f2.close"
      ],
      "execution_count": 0,
      "outputs": []
    },
    {
      "cell_type": "markdown",
      "metadata": {
        "id": "GlXGmMaWJbs6",
        "colab_type": "text"
      },
      "source": [
        "# モデル定義"
      ]
    },
    {
      "cell_type": "code",
      "metadata": {
        "id": "vOZv3HYfDVW7",
        "colab_type": "code",
        "colab": {}
      },
      "source": [
        "K5 = (5,5)\n",
        "K6 = (6,6)\n",
        "K7 = (7,7)\n",
        "K8 = (8,8)\n",
        "slope_co = 0.0\n",
        "\n",
        "input = Input(shape=(192,192,1))\n",
        "\n",
        "# Layer 1  (192,192,1) -> strides1 -> (192,192,32)\n",
        "conv1 = Conv2D(32, K5, padding='same', strides=1)(input)\n",
        "#conv1 = BatchNormalization()(conv1)\n",
        "conv1 = LeakyReLU(alpha=slope_co)(conv1)\n",
        "\n",
        "# Layer 2  (192,192,32) -> strides2 -> (96,96,32)\n",
        "conv2 = Conv2D(32, K6, strides=2,padding='same')(conv1)\n",
        "#conv2 = BatchNormalization()(conv2)\n",
        "conv2 = LeakyReLU(alpha=slope_co)(conv2)\n",
        "\n",
        "# Layer 3  (96,96,32) -> strides1 -> (96,96,64)\n",
        "conv3 = Conv2D(64, K5, strides=1, padding='same')(conv2)\n",
        "conv3 = LeakyReLU(alpha=slope_co)(conv3)\n",
        "\n",
        "# Layer 4  (96,96,64) -> strides2 -> (48,48,64)\n",
        "conv4 = Conv2D(64, K8, strides=2, padding='same')(conv3)\n",
        "conv4 = LeakyReLU(alpha=slope_co)(conv4)\n",
        "\n",
        "# Layer 5  (48,48,64) -> strides1 -> (48,48,96)\n",
        "conv5 = Conv2D(96, K7, strides=1, padding='same')(conv4)\n",
        "conv5 = LeakyReLU(alpha=slope_co)(conv5)\n",
        "\n",
        "# Layer 6  (48,48,96) -> strides2 -> (24,24,96)\n",
        "conv6 = Conv2D(96, K8, strides=2, padding='same')(conv5)\n",
        "conv6 = LeakyReLU(alpha=slope_co)(conv6)\n",
        "\n",
        "# Layer 7  (24,24,96) -> strides1 -> (24,24,128)\n",
        "conv7 = Conv2D(128, K7, strides=1, padding='same')(conv6)\n",
        "conv7 = LeakyReLU(alpha=slope_co)(conv7)\n",
        "\n",
        "# Layer 8  (24,24,128) -> strides2 -> (12,12,128)\n",
        "conv8 = Conv2D(128, K8, strides=2, padding='same')(conv7)\n",
        "conv8 = BatchNormalization()(conv8)\n",
        "conv8 = LeakyReLU(alpha=slope_co)(conv8)\n",
        "\n",
        "# Layer 9  (12,12,128) -> strides1 -> (12,12,160)\n",
        "conv9 = Conv2D(160, K7, strides=1, padding='same')(conv8)\n",
        "conv9 = LeakyReLU(alpha=slope_co)(conv9)\n",
        "conv9 = concatenate([conv8,conv9])\n",
        "\n",
        "# Layer 10 UP (12,12,160) -> strides2 -> (24,24,160)\n",
        "conv10 = Conv2DTranspose(160, K8, strides=2, padding='same')(conv9)\n",
        "conv10 = LeakyReLU(alpha=slope_co)(conv10)\n",
        "\n",
        "# Layer 11  (24,24,160) -> strides1 -> (24,24,128)\n",
        "conv11 = Conv2D(128, K7, strides=1, padding='same')(conv10)\n",
        "conv11 = LeakyReLU(alpha=slope_co)(conv11)\n",
        "conv11 = concatenate([conv7,conv11])\n",
        "\n",
        "# Layer 12 UP (24,24,128) -> strides2 -> (48,48,128)\n",
        "conv12 = Conv2DTranspose(128, K8, strides=2, padding='same')(conv11)\n",
        "conv12 = LeakyReLU(alpha=slope_co)(conv12)\n",
        "\n",
        "# Layer 13  (48,48,128) -> strides1 -> (48,48,96)\n",
        "conv13 = Conv2D(96, K7, strides=1, padding='same')(conv12)\n",
        "conv13 = LeakyReLU(alpha=slope_co)(conv13)\n",
        "conv13 = concatenate([conv5,conv13])\n",
        "\n",
        "# Layer 14 UP (48,48,96) -> strides2 -> (96,96,96)\n",
        "conv14 = Conv2DTranspose(128, K8,strides=2, padding='same')(conv13)\n",
        "conv14 = LeakyReLU(alpha=slope_co)(conv14)\n",
        "\n",
        "# Layer 15  (96,96,96) -> strides1 -> (96,96,64)\n",
        "conv15 = Conv2D(64, K7, strides=1 ,padding='same')(conv14)\n",
        "conv15 = LeakyReLU(alpha=slope_co)(conv15)\n",
        "conv15 = concatenate([conv3,conv15])\n",
        "\n",
        "# Layer 16 UP (96,96,64) -> strides2 -> (192,192,64)\n",
        "conv16 = Conv2DTranspose(64, K6, strides=2, padding='same')(conv15)\n",
        "conv16 = LeakyReLU(alpha=slope_co)(conv16)\n",
        "\n",
        "# Layer 17  (192,192,64) -> strides1 -> (192,192,32)\n",
        "conv17 = Conv2D(32, K5, strides=1, padding='same')(conv16)\n",
        "conv17 = LeakyReLU(alpha=slope_co)(conv17)\n",
        "\n",
        "# Layer 18  (192,192,32) -> strides1 -> (192,192,1)\n",
        "output = Conv2D(1, K5, strides=1, padding='same')(conv17)\n",
        "output = Activation('linear')(output)\n",
        "\n",
        "# Model\n",
        "\n",
        "my_model = Model(input,output)\n",
        "\n",
        "my_model.summary()"
      ],
      "execution_count": 0,
      "outputs": []
    },
    {
      "cell_type": "code",
      "metadata": {
        "id": "CLmApZpSf3Qs",
        "colab_type": "code",
        "colab": {}
      },
      "source": [
        "from IPython.display import Image, display_png\n",
        "\n",
        "#学習モデル図の作成\n",
        "plot_model(my_model, to_file='my_model.png')\n",
        "display_png(Image('my_model.png'))"
      ],
      "execution_count": 0,
      "outputs": []
    },
    {
      "cell_type": "code",
      "metadata": {
        "id": "tGL_h_pDf24Y",
        "colab_type": "code",
        "colab": {}
      },
      "source": [
        ""
      ],
      "execution_count": 0,
      "outputs": []
    },
    {
      "cell_type": "markdown",
      "metadata": {
        "id": "XiNDSLqUJrem",
        "colab_type": "text"
      },
      "source": [
        "conv2d_transpose (Deconvolution)の概念図\n",
        "\n",
        "（https://qiita.com/shngt/items/9c86e69e16ce6d61a0c6より引用）\n",
        "\n"
      ]
    },
    {
      "cell_type": "markdown",
      "metadata": {
        "id": "Qhxs4ThUJqcu",
        "colab_type": "text"
      },
      "source": [
        ""
      ]
    },
    {
      "cell_type": "markdown",
      "metadata": {
        "id": "qDWgoD2BPoAV",
        "colab_type": "text"
      },
      "source": [
        "![転置畳み込み　3x3（下）をもとにして，5x5(上）を作る様子](https://camo.qiitausercontent.com/83d6062eb3d0c6204e84772ebe3d280350a79822/68747470733a2f2f71696974612d696d6167652d73746f72652e73332e616d617a6f6e6177732e636f6d2f302f3130333038352f32306530653834352d663633312d313939352d643835652d6263333966363961653966382e676966)"
      ]
    },
    {
      "cell_type": "code",
      "metadata": {
        "id": "RXtw58FMA1I_",
        "colab_type": "code",
        "colab": {}
      },
      "source": [
        "my_model.compile(loss= 'mean_squared_error' ,#'binary_crossentropy',# ,#  #   # # ,\n",
        "              # optimizer = keras.optimizers.Adamax(lr=0.002, beta_1=0.9, beta_2=0.999, epsilon=None, decay=0.0),\n",
        "              optimizer = Adam(lr=0.001, beta_1=0.95, beta_2=0.999, epsilon=1e-08, decay=0.0),\n",
        "              #optimizer = keras.optimizers.SGD(lr=0.01, momentum=0.0, decay=0.0, nesterov=False),\n",
        "              metrics=['accuracy'])"
      ],
      "execution_count": 0,
      "outputs": []
    },
    {
      "cell_type": "code",
      "metadata": {
        "id": "Buz9nYjQWG7r",
        "colab_type": "code",
        "colab": {}
      },
      "source": [
        "Xex = np.array([x[2] for x in train])\n",
        "Yex = np.array([y[3] for y in train])\n",
        "\n",
        "dsize = len(Xex)\n",
        "batch_size = 25\n",
        "epochs = 100\n",
        "\n",
        "X1 = np.array(Xex).reshape(dsize,192*192).astype('float32')\n",
        "X1 = X1/255\n",
        "X1 = X1.reshape(-1,192,192,1)\n",
        "Y1 = np.array(Yex).reshape(dsize,192*192)\n",
        "Y1 = Y1/255\n",
        "Y1 = Y1.reshape(-1,192,192,1)\n",
        "\n",
        "es = EarlyStopping(monitor='val_loss', patience=2)   #  検証用データのロスが改善されなくなったら2エポック後に停止\n",
        "tb_cb = keras.callbacks.TensorBoard(log_dir='tblog', histogram_freq=1, write_graph=True)\n",
        "csv_logger = CSVLogger('training.log')\n",
        "hist = my_model.fit(X1, Y1,\n",
        "                 batch_size=batch_size,\n",
        "                 epochs=epochs,\n",
        "                 verbose=1,\n",
        "                 validation_split=0.2, # 20 % は検証用に利用する\n",
        "                 #callbacks=[es, csv_logger,tb_cb])\n",
        "                  callbacks=[es, csv_logger])"
      ],
      "execution_count": 0,
      "outputs": []
    },
    {
      "cell_type": "code",
      "metadata": {
        "id": "w5fwefYMeWk7",
        "colab_type": "code",
        "colab": {}
      },
      "source": [
        "x = hist.history['acc']\n",
        "plt.plot(range(1, len(x)+1), x,label=\"validation\")\n",
        "plt.xlabel('Epochs')\n",
        "plt.ylabel('Accuracy')\n",
        "plt.ylim([0.9, 1])\n",
        "plt.legend()\n",
        "plt.show()"
      ],
      "execution_count": 0,
      "outputs": []
    },
    {
      "cell_type": "markdown",
      "metadata": {
        "id": "3NVegM9gbhqW",
        "colab_type": "text"
      },
      "source": [
        "# テスト用データで検証"
      ]
    },
    {
      "cell_type": "code",
      "metadata": {
        "id": "jahA5Hm5Ybns",
        "colab_type": "code",
        "colab": {}
      },
      "source": [
        "Xtex = np.array([x[2] for x in testdata[:5]])\n",
        "Ytex = np.array([y[3] for y in testdata[:5]])\n",
        "\n",
        "def test(X,Y,i):\n",
        "    output = my_model.predict(X[i].reshape(-1,192,192,1)/255)\n",
        "    # output = (output*255).astype(np.uint8)\n",
        "    output = np.ndarray.flatten(output)\n",
        "    output = output.reshape(192,192)\n",
        "    fig = plt.figure(figsize=(8,2))\n",
        "    subplot = fig.add_subplot(1,3,1)\n",
        "    subplot.set_xticks([])\n",
        "    subplot.set_yticks([])\n",
        "    subplot.imshow(255-X[i],cmap=plt.cm.binary)\n",
        "    subplot = fig.add_subplot(1,3,2)\n",
        "    subplot.set_xticks([])\n",
        "    subplot.set_yticks([])\n",
        "    print(output.max())\n",
        "    output = output\n",
        "    subplot.imshow(1-output,cmap=plt.cm.binary)\n",
        "    subplot = fig.add_subplot(1,3,3)\n",
        "    subplot.set_xticks([])\n",
        "    subplot.set_yticks([])\n",
        "    subplot.imshow(255-Y[i],cmap=plt.cm.binary)\n",
        "for i in range(5):\n",
        "    test(Xtex,Ytex,i)"
      ],
      "execution_count": 0,
      "outputs": []
    },
    {
      "cell_type": "code",
      "metadata": {
        "id": "WyEdqoYt4Pua",
        "colab_type": "code",
        "colab": {}
      },
      "source": [
        "plt.rcParams['figure.figsize'] = (10.0, 10.0)\n",
        "output = my_model.predict(testdata[999][2].reshape(-1,192,192,1)/255)\n",
        "output = output.reshape(192,192)*255\n",
        "color = cv2.cvtColor(output,cv2.COLOR_GRAY2BGR)\n",
        "for [x,y] in testdata[999][0]:\n",
        "        cv2.circle(color,(x,y),3,(255,255,0),-1)\n",
        "cv2_imshow(cv2.resize(color,(384,384)))\n",
        "print(\" \")\n",
        "output = my_model.predict(testdata[444][2].reshape(-1,192,192,1)/255)\n",
        "output = output.reshape(192,192)*255\n",
        "color = cv2.cvtColor(output,cv2.COLOR_GRAY2BGR)\n",
        "for [x,y] in testdata[444][0]:\n",
        "        cv2.circle(color,(x,y),3,(255,255,0),-1)\n",
        "cv2_imshow(cv2.resize(color,(384,384)))"
      ],
      "execution_count": 0,
      "outputs": []
    },
    {
      "cell_type": "markdown",
      "metadata": {
        "id": "8_w3c2QBikFo",
        "colab_type": "text"
      },
      "source": [
        "\n",
        "\n",
        "---\n",
        "\n"
      ]
    },
    {
      "cell_type": "markdown",
      "metadata": {
        "id": "kVUKPcdacOqp",
        "colab_type": "text"
      },
      "source": [
        "# 最初に１回だけ実行すればよいコード（再掲）\n",
        "以下は最初に１度だけ実行すればよいコードである。"
      ]
    },
    {
      "cell_type": "code",
      "metadata": {
        "id": "nmpuH_KIbibf",
        "colab_type": "code",
        "colab": {}
      },
      "source": [
        "# 巡回セールスマン問題の最適解を求めるためのライブラリ　導入\n",
        "%cd /content\n",
        "!git clone https://github.com/jvkersch/pyconcorde\n",
        "% cd /content/pyconcorde\n",
        "!pip install -e ."
      ],
      "execution_count": 0,
      "outputs": []
    },
    {
      "cell_type": "code",
      "metadata": {
        "id": "bIvtzSVz8vPP",
        "colab_type": "code",
        "colab": {}
      },
      "source": [
        "from google.colab import drive\n",
        "drive.mount('/gdrive')\n",
        "%cd /gdrive"
      ],
      "execution_count": 0,
      "outputs": []
    },
    {
      "cell_type": "code",
      "metadata": {
        "id": "b9kQZaJbT7pB",
        "colab_type": "code",
        "colab": {}
      },
      "source": [
        "# 日本語フォントをダウンロードする。１度だけ実行\n",
        "!apt-get -y install fonts-ipafont-gothic\n",
        "# キャッシュを削除する。\n",
        "!rm /root/.cache/matplotlib/fontlist-v300.json\n",
        "# ランタイムを再起動する。"
      ],
      "execution_count": 0,
      "outputs": []
    },
    {
      "cell_type": "code",
      "metadata": {
        "id": "81ifsUtrUuLS",
        "colab_type": "code",
        "colab": {}
      },
      "source": [
        ""
      ],
      "execution_count": 0,
      "outputs": []
    },
    {
      "cell_type": "code",
      "metadata": {
        "id": "2Q1_tkW-x-9j",
        "colab_type": "code",
        "colab": {}
      },
      "source": [
        ""
      ],
      "execution_count": 0,
      "outputs": []
    }
  ]
}